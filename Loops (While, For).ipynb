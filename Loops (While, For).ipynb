{
 "cells": [
  {
   "cell_type": "markdown",
   "id": "d0d7ed5f-4619-4d07-92c3-26735eb3dfe7",
   "metadata": {},
   "source": [
    "Print number from 1 to 5 using a while loop."
   ]
  },
  {
   "cell_type": "code",
   "execution_count": 1,
   "id": "91eb5a07-4fa3-4c66-8caa-6dbe2cd4061b",
   "metadata": {},
   "outputs": [
    {
     "name": "stdout",
     "output_type": "stream",
     "text": [
      "1\n",
      "2\n",
      "3\n",
      "4\n",
      "5\n"
     ]
    }
   ],
   "source": [
    "a = 1\n",
    "\n",
    "while a <= 5:\n",
    "    print(a)\n",
    "    \n",
    "    a += 1"
   ]
  },
  {
   "cell_type": "markdown",
   "id": "b9898aa4-2b69-45a2-847e-f962da490504",
   "metadata": {},
   "source": [
    "2. Calculate the sum of number from 1 to 10 using a while loop."
   ]
  },
  {
   "cell_type": "code",
   "execution_count": 4,
   "id": "7d48d39e-567f-4095-afe6-d2de85add933",
   "metadata": {},
   "outputs": [
    {
     "name": "stdout",
     "output_type": "stream",
     "text": [
      "55\n"
     ]
    }
   ],
   "source": [
    "a = 1\n",
    "sum = 0\n",
    "\n",
    "while a <= 10:\n",
    "    sum += a\n",
    "    a += 1\n",
    "    \n",
    "print(sum)"
   ]
  },
  {
   "cell_type": "markdown",
   "id": "cb14e00c-217f-4e78-9cd5-a7942773430f",
   "metadata": {},
   "source": [
    "3. Calculate the factorial of a number using a for loop."
   ]
  },
  {
   "cell_type": "code",
   "execution_count": 7,
   "id": "5c027208-3efb-483e-9001-c299fca6462a",
   "metadata": {},
   "outputs": [
    {
     "name": "stdout",
     "output_type": "stream",
     "text": [
      "120\n"
     ]
    }
   ],
   "source": [
    "num = 5\n",
    "fact = 1\n",
    "\n",
    "for i in range(2, num+1):\n",
    "    fact *= i\n",
    "\n",
    "print(fact)"
   ]
  },
  {
   "cell_type": "markdown",
   "id": "636fd946-5d0f-49ad-ba5d-4d9473b24719",
   "metadata": {},
   "source": [
    "4. Count the number of vowel in a string using a for loop."
   ]
  },
  {
   "cell_type": "code",
   "execution_count": 10,
   "id": "724d4922-a36c-44ca-bca7-4ae5abdf3bdf",
   "metadata": {},
   "outputs": [
    {
     "name": "stdout",
     "output_type": "stream",
     "text": [
      "2  vowel present in  Kanha\n"
     ]
    }
   ],
   "source": [
    "vowel = 'AaEeIiOoUu'\n",
    "s = 'Kanha'\n",
    "\n",
    "count = 0\n",
    "\n",
    "for i in s:\n",
    "    if i in vowel:\n",
    "        count += 1\n",
    "        \n",
    "print(count, \" vowel present in \", s)"
   ]
  },
  {
   "cell_type": "markdown",
   "id": "5f6a36f0-63ef-4ab3-a9a0-0bbcaf10dfe1",
   "metadata": {},
   "source": [
    "5. Print a pattern using nexted loop."
   ]
  },
  {
   "cell_type": "code",
   "execution_count": 14,
   "id": "bd014fb6-77a1-43e9-b2cb-2afa5efaec55",
   "metadata": {},
   "outputs": [
    {
     "name": "stdout",
     "output_type": "stream",
     "text": [
      "\n",
      "* \n",
      "* * \n",
      "* * * \n",
      "* * * * \n",
      "* * * * * \n",
      "* * * * * * \n"
     ]
    }
   ],
   "source": [
    "for i in range(7):\n",
    "    for j in range(i):\n",
    "        print('*',end=' ')\n",
    "    print()"
   ]
  },
  {
   "cell_type": "markdown",
   "id": "f15abe42-7712-4d9a-8685-2879462af9a6",
   "metadata": {},
   "source": [
    "6. Generate a mltiplication table using nexted loop."
   ]
  },
  {
   "cell_type": "code",
   "execution_count": 20,
   "id": "fa8bda13-e89c-4f31-a172-d0878e6c38aa",
   "metadata": {},
   "outputs": [
    {
     "name": "stdout",
     "output_type": "stream",
     "text": [
      "TABLE OF :  2\n",
      "2\tX\t1\t=\t2\n",
      "2\tX\t2\t=\t4\n",
      "2\tX\t3\t=\t6\n",
      "2\tX\t4\t=\t8\n",
      "2\tX\t5\t=\t10\n",
      "2\tX\t6\t=\t12\n",
      "2\tX\t7\t=\t14\n",
      "2\tX\t8\t=\t16\n",
      "2\tX\t9\t=\t18\n",
      "2\tX\t10\t=\t20\n",
      "TABLE OF :  3\n",
      "3\tX\t1\t=\t3\n",
      "3\tX\t2\t=\t6\n",
      "3\tX\t3\t=\t9\n",
      "3\tX\t4\t=\t12\n",
      "3\tX\t5\t=\t15\n",
      "3\tX\t6\t=\t18\n",
      "3\tX\t7\t=\t21\n",
      "3\tX\t8\t=\t24\n",
      "3\tX\t9\t=\t27\n",
      "3\tX\t10\t=\t30\n",
      "TABLE OF :  4\n",
      "4\tX\t1\t=\t4\n",
      "4\tX\t2\t=\t8\n",
      "4\tX\t3\t=\t12\n",
      "4\tX\t4\t=\t16\n",
      "4\tX\t5\t=\t20\n",
      "4\tX\t6\t=\t24\n",
      "4\tX\t7\t=\t28\n",
      "4\tX\t8\t=\t32\n",
      "4\tX\t9\t=\t36\n",
      "4\tX\t10\t=\t40\n",
      "TABLE OF :  5\n",
      "5\tX\t1\t=\t5\n",
      "5\tX\t2\t=\t10\n",
      "5\tX\t3\t=\t15\n",
      "5\tX\t4\t=\t20\n",
      "5\tX\t5\t=\t25\n",
      "5\tX\t6\t=\t30\n",
      "5\tX\t7\t=\t35\n",
      "5\tX\t8\t=\t40\n",
      "5\tX\t9\t=\t45\n",
      "5\tX\t10\t=\t50\n"
     ]
    }
   ],
   "source": [
    "start = 2\n",
    "end = 5\n",
    "\n",
    "for i in range(start, end+1):\n",
    "    print('TABLE OF : ',i)\n",
    "    for j in range(1, 11):\n",
    "        print(f'{i}\\tX\\t{j}\\t=\\t{(i*j)}')"
   ]
  },
  {
   "cell_type": "code",
   "execution_count": null,
   "id": "e4cbdfa3-9f02-4210-8b4d-66052250c649",
   "metadata": {},
   "outputs": [],
   "source": []
  }
 ],
 "metadata": {
  "kernelspec": {
   "display_name": "Python 3 (ipykernel)",
   "language": "python",
   "name": "python3"
  },
  "language_info": {
   "codemirror_mode": {
    "name": "ipython",
    "version": 3
   },
   "file_extension": ".py",
   "mimetype": "text/x-python",
   "name": "python",
   "nbconvert_exporter": "python",
   "pygments_lexer": "ipython3",
   "version": "3.10.8"
  }
 },
 "nbformat": 4,
 "nbformat_minor": 5
}
